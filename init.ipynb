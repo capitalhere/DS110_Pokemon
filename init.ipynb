{
 "cells": [
  {
   "cell_type": "code",
   "execution_count": 4,
   "metadata": {},
   "outputs": [
    {
     "name": "stdout",
     "output_type": "stream",
     "text": [
      "Now Testing RandomForest: \n",
      " Accuracy: 0.9080459770114943%\n",
      "\n",
      "Now Testing kNN: \n",
      " Accuracy: 0.7931034482758621%\n"
     ]
    }
   ],
   "source": [
    "import os\n",
    "import numpy as np\n",
    "from pathlib import Path\n",
    "from PIL import Image\n",
    "from sklearn.neighbors import KNeighborsClassifier\n",
    "from sklearn.ensemble import RandomForestClassifier\n",
    "from sklearn.model_selection import train_test_split\n",
    "from sklearn.utils import Bunch\n",
    "\n",
    "image_dir_path = 'dataset'\n",
    "paths = []\n",
    "pokemonNames, pokemonTarget, pokemonRGB, pokemonImage = [], [], [], []\n",
    "\n",
    "def createDataDebug(pokemon_bunch_data):\n",
    "    print(pokemon_bunch_data['data'].shape)\n",
    "    print(pokemon_bunch_data['images'].shape)\n",
    "    print(pokemon_bunch_data['target'].shape)\n",
    "    print(pokemon_bunch_data['target_names'].shape)\n",
    "\n",
    "def img_normalize():\n",
    "    for pokeFolder in os.listdir(image_dir_path):\n",
    "        for i, imageFile in enumerate(os.listdir(f\"{image_dir_path}/{pokeFolder}\")):\n",
    "            image_path = f\"{image_dir_path}/{pokeFolder}/{imageFile}\"\n",
    "            if imageFile[imageFile.index('.'):].lower() in ['.png', '.jpg', '.jpeg']:\n",
    "                img = Image.open(image_path)\n",
    "                img.resize((128,128)).convert('RGB').save(image_path)\n",
    "                if not (imageFile.startswith(\"new_img\")) :\n",
    "                    os.rename(image_path, f\"{image_dir_path}/{pokeFolder}/new_img{i}{imageFile[imageFile.index('.'):]}\")\n",
    "            else:\n",
    "                os.remove(image_path)\n",
    "\n",
    "img_normalize()\n",
    "\n",
    "def createData():\n",
    "    for path in Path(image_dir_path).rglob('*.*'):\n",
    "        if path.parts[1] not in pokemonNames:\n",
    "            pokemonNames.append(path.parts[1])\n",
    "        pokemonTarget.append(pokemonNames.index(path.parts[1]))\n",
    "        img = Image.open(path)\n",
    "        pixel = img.load()\n",
    "        tempRGB, tempRow = [], []\n",
    "        for i in range(img.height):\n",
    "            tempImage = []\n",
    "            for j in range(img.width):\n",
    "                tempRGB.extend([pixel[i, j][0], pixel[i, j][1], pixel[i, j][2]])\n",
    "                tempImage.append(np.asarray(pixel[i, j]))\n",
    "            tempRow.append(tempImage)\n",
    "        pokemonImage.append(tempRow)\n",
    "        pokemonRGB.append(tempRGB)\n",
    "\n",
    "    return Bunch( data=np.asarray(pokemonRGB), \n",
    "                  images=np.asarray(pokemonImage),\n",
    "                  target=np.asarray(pokemonTarget),\n",
    "                  target_names=np.asarray(pokemonNames) )\n",
    "\n",
    "pokemon_bunch_data = createData()\n",
    "\n",
    "pokeTrain, pokeTest, labelTrain, labelTest = \\\n",
    "    train_test_split(pokemon_bunch_data['data'], pokemon_bunch_data['target'], test_size=0.1)\n",
    "\n",
    "# # # ########### Random Forest Algorithm ###########\n",
    "\n",
    "forest = RandomForestClassifier(n_estimators=100).fit(pokeTrain, labelTrain)\n",
    "print(\"Now Testing RandomForest: \\n \" + \"Accuracy: \" + str(forest.score(pokeTest, labelTest)) + \"%\\n\")\n",
    "\n",
    "# # # ########### KNearestNeighbors Algorithm ###########\n",
    "\n",
    "pokemonKNN = KNeighborsClassifier(n_neighbors = 3).fit(pokeTrain, labelTrain)\n",
    "print(\"Now Testing kNN: \\n \" + \"Accuracy: \" +  str(pokemonKNN.score(pokeTest, labelTest))+ \"%\")\n",
    "\n",
    "# All 150 pokemon takes ~40 minutes are so // Before Refactor\n"
   ]
  }
 ],
 "metadata": {
  "kernelspec": {
   "display_name": "Python 3.10.2 64-bit",
   "language": "python",
   "name": "python3"
  },
  "language_info": {
   "codemirror_mode": {
    "name": "ipython",
    "version": 3
   },
   "file_extension": ".py",
   "mimetype": "text/x-python",
   "name": "python",
   "nbconvert_exporter": "python",
   "pygments_lexer": "ipython3",
   "version": "3.10.2"
  },
  "orig_nbformat": 4,
  "vscode": {
   "interpreter": {
    "hash": "f45ea5469560aa4668c581526e66a99894cb446237ecc3d1847d6a714bdb791f"
   }
  }
 },
 "nbformat": 4,
 "nbformat_minor": 2
}
