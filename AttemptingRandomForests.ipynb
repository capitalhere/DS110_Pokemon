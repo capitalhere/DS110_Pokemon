{
 "cells": [
  {
   "cell_type": "code",
   "execution_count": null,
   "id": "0dba9b1f",
   "metadata": {},
   "outputs": [],
   "source": [
    "# Yooo lets see how this goes \n",
    "# btw, using FirstGenPokemon.csv and unzipped pokemon images named \"dataset\""
   ]
  },
  {
   "cell_type": "code",
   "execution_count": null,
   "id": "0d658051",
   "metadata": {},
   "outputs": [],
   "source": [
    "# Importing the csv file into a dataframe\n",
    "\n",
    "import pandas as pd  # moves column over by 1\n",
    "df = pd.read_csv(\"FirstGenPokemon.csv\")\n",
    "df.head() "
   ]
  },
  {
   "cell_type": "code",
   "execution_count": null,
   "id": "d9c2a930",
   "metadata": {},
   "outputs": [],
   "source": [
    "# Source: https://stackoverflow.com/questions/71009215/how-to-make-a-dataframe-from-images-python-pandas\n",
    "# Imports the images in the folder \"dataset\" into a dataframe\n",
    "\n",
    "import pandas as pd\n",
    "from pathlib import Path\n",
    "\n",
    "image_dir_path = 'dataset'\n",
    "paths = [path.parts[-3:] for path in\n",
    "         Path(image_dir_path).rglob('*.png')]\n",
    "df = pd.DataFrame(data=paths, columns=['dataset', 'Pokemon', 'Images'])\n",
    "df.head()"
   ]
  },
  {
   "cell_type": "code",
   "execution_count": null,
   "id": "2bfedba3",
   "metadata": {},
   "outputs": [],
   "source": [
    "# Splits the dataframe into training and testing data\n",
    "\n",
    "from sklearn.model_selection import train_test_split\n",
    "\n",
    "                                                    # I choose small size values to make it run faster\n",
    "name_train, name_test, image_train, image_test = \\\n",
    "train_test_split(df['Pokemon'], df['Images'], test_size=0.01, train_size = 0.2) \n"
   ]
  },
  {
   "cell_type": "markdown",
   "id": "979819a2",
   "metadata": {},
   "source": [
    "Potentially Helpful Resources: \n",
    "\n",
    "https://www.analyticsvidhya.com/blog/2022/01/image-classification-using-machine-learning/\n",
    "\n",
    "https://medium.com/analytics-vidhya/create-your-own-real-image-dataset-with-python-deep-learning-b2576b63da1e\n",
    "\n",
    "https://pub.towardsai.net/how-to-create-a-new-custom-dataset-from-images-9b95977964ab\n",
    "\n",
    "And some comment I found:\n",
    "    \"As a side note (in case you are ever tempted): never load the actual images into a pandas dataframe. It is best to load them as NumPy arrays or something similar. Pandas DataFrames are in essence just annotated NumPy arrays anyway.\"\n",
    "    https://www.pluralsight.com/guides/importing-image-data-into-numpy-arrays\n",
    "\n",
    "Perhaps we need to create our own dataset? "
   ]
  },
  {
   "cell_type": "code",
   "execution_count": null,
   "id": "7c07202a",
   "metadata": {},
   "outputs": [],
   "source": [
    "# This doesn't work as the image is just an address\n",
    "\n",
    "import csv \n",
    "image_train = image_train/255.0"
   ]
  },
  {
   "cell_type": "code",
   "execution_count": null,
   "id": "bb048dc8",
   "metadata": {},
   "outputs": [],
   "source": [
    "# Normalization\n",
    "\n",
    "image_train = image_train/255.0\n",
    "image_test = image_test/255.0"
   ]
  },
  {
   "cell_type": "code",
   "execution_count": null,
   "id": "b881f105",
   "metadata": {},
   "outputs": [],
   "source": []
  }
 ],
 "metadata": {
  "kernelspec": {
   "display_name": "Python 3 (ipykernel)",
   "language": "python",
   "name": "python3"
  },
  "language_info": {
   "codemirror_mode": {
    "name": "ipython",
    "version": 3
   },
   "file_extension": ".py",
   "mimetype": "text/x-python",
   "name": "python",
   "nbconvert_exporter": "python",
   "pygments_lexer": "ipython3",
   "version": "3.9.12"
  }
 },
 "nbformat": 4,
 "nbformat_minor": 5
}
