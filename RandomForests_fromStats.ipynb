{
 "cells": [
  {
   "cell_type": "code",
   "execution_count": 130,
   "id": "f932d999",
   "metadata": {
    "scrolled": true
   },
   "outputs": [],
   "source": [
    "import pandas as pd\n",
    "df = pd.read_csv(\"FirstGenPokemon.csv\")\n",
    "df.head() \n",
    "\n",
    "header = list(df.iloc[:, 1])\n",
    "header\n",
    "\n",
    "data = []\n",
    "simplified = df.iloc[0:, 2:]"
   ]
  },
  {
   "cell_type": "code",
   "execution_count": 131,
   "id": "4ebc3f59",
   "metadata": {},
   "outputs": [],
   "source": [
    "def stringToBinary(simplified, columnIndex, word):\n",
    "    BinaryList = []\n",
    "    for i in range(len(simplified.index)):\n",
    "        if simplified.iloc[i, columnIndex] == word:\n",
    "            BinaryList.append(1)\n",
    "        else:\n",
    "            BinaryList.append(0)\n",
    "            \n",
    "    return BinaryList\n",
    "        \n",
    "simplified['isGrass'] = stringToBinary(simplified, 1, \"grass\")\n",
    "simplified['isFire'] = stringToBinary(simplified, 1, \"fire\")\n",
    "simplified['isWater'] = stringToBinary(simplified, 1, \"water\")\n",
    "simplified['isBug'] = stringToBinary(simplified, 1, \"bug\")\n",
    "simplified['isNormal'] = stringToBinary(simplified, 1, \"normal\")\n",
    "simplified['isPoison'] = stringToBinary(simplified, 1, \"poison\")\n",
    "simplified['isElectric'] = stringToBinary(simplified, 1, \"electric\")\n",
    "simplified['isGround'] = stringToBinary(simplified, 1, \"ground\")\n",
    "simplified['isFighting'] = stringToBinary(simplified, 1, \"fighting\")\n",
    "simplified['isPsychic'] = stringToBinary(simplified, 1, \"psychic\")\n",
    "simplified['isRock'] = stringToBinary(simplified, 1, \"rock\")\n",
    "simplified['isGhost'] = stringToBinary(simplified, 1, \"ghost\")\n",
    "simplified['isIce'] = stringToBinary(simplified, 1, \"ice\")\n",
    "simplified['isDragon'] = stringToBinary(simplified, 1, \"dragon\")\n",
    "\n",
    "#simplified['isNone']\n",
    "simplified['isPoison2'] = stringToBinary(simplified, 2, \"poison\")\n",
    "simplified['isFlying2'] = stringToBinary(simplified, 2, \"flying\")\n",
    "simplified['isGround2'] = stringToBinary(simplified, 2, \"ground\")\n",
    "simplified['isGrass2'] = stringToBinary(simplified, 2, \"grass\")\n",
    "simplified['isFighting2'] = stringToBinary(simplified, 2, \"fighting\")\n",
    "simplified['isPsychic2'] = stringToBinary(simplified, 2, \"psychic\")\n",
    "simplified['isIce2'] = stringToBinary(simplified, 2, \"ice\")\n",
    "simplified['isRock2'] = stringToBinary(simplified, 2, \"rock\")\n",
    "\n",
    "simplified['isMedSlow'] = stringToBinary(simplified, 9, \"Medium Slow\")\n",
    "simplified['isMedFast'] = stringToBinary(simplified, 9, \"Medium Fast\")\n",
    "simplified['isFast'] = stringToBinary(simplified, 9, \"Fast\")\n",
    "simplified['isSlow'] = stringToBinary(simplified, 9, \"Slow\")"
   ]
  },
  {
   "cell_type": "code",
   "execution_count": 132,
   "id": "c3371aaf",
   "metadata": {},
   "outputs": [],
   "source": [
    "simplified.drop([' Type1', ' Type2', ' Exp_Speed'], axis=1, inplace=True) # The col names have a \" \" in front"
   ]
  },
  {
   "cell_type": "code",
   "execution_count": 133,
   "id": "7bd86481",
   "metadata": {
    "scrolled": true
   },
   "outputs": [],
   "source": [
    "names = list(df.iloc[:, 1])"
   ]
  },
  {
   "cell_type": "code",
   "execution_count": 134,
   "id": "c99dd769",
   "metadata": {},
   "outputs": [],
   "source": [
    "data = []\n",
    "for rows in range(len(simplified.index)):\n",
    "    data.append(list(simplified.iloc[rows]))"
   ]
  },
  {
   "cell_type": "code",
   "execution_count": 135,
   "id": "8316b123",
   "metadata": {},
   "outputs": [],
   "source": [
    "from sklearn.model_selection import train_test_split\n",
    "\n",
    "stats_train, stats_test, names_train, names_test = \\\n",
    "train_test_split(data, names, train_size=150) # How do I get this to all 151"
   ]
  },
  {
   "cell_type": "code",
   "execution_count": 136,
   "id": "f32adc9a",
   "metadata": {},
   "outputs": [
    {
     "data": {
      "text/plain": [
       "1.0"
      ]
     },
     "execution_count": 136,
     "metadata": {},
     "output_type": "execute_result"
    }
   ],
   "source": [
    "from sklearn.ensemble import RandomForestClassifier\n",
    "\n",
    "# Create a Gaussian Classifier\n",
    "forest = RandomForestClassifier(n_estimators=100)\n",
    "\n",
    "# Train the model using the training sets \n",
    "forest.fit(stats_train,names_train)\n",
    "\n",
    "prediction = forest.score(stats_train,names_train)\n",
    "prediction # Expected Answer"
   ]
  },
  {
   "cell_type": "code",
   "execution_count": 137,
   "id": "b41460b8",
   "metadata": {},
   "outputs": [],
   "source": [
    "# See the weighted values for each stat type\n",
    "#pd.DataFrame(forest.feature_importances_, index=simplified.columns).sort_values(by=0, ascending=False)"
   ]
  },
  {
   "cell_type": "code",
   "execution_count": 148,
   "id": "e3c316d4",
   "metadata": {
    "scrolled": true
   },
   "outputs": [
    {
     "name": "stdout",
     "output_type": "stream",
     "text": [
      "Enter Types if you know it, (0:False & 1:True), enter if unsure:2\n",
      "Enter Height(m) if you know it, (0:False & 1:True), enter if unsure:\n",
      "Enter Weight(kg) if you know it, (0:False & 1:True), enter if unsure:\n",
      "Enter Male_Pct if you know it, (0:False & 1:True), enter if unsure:\n",
      "Enter Female_Pct if you know it, (0:False & 1:True), enter if unsure:\n",
      "Enter Capt_Rate if you know it, (0:False & 1:True), enter if unsure:\n",
      "Enter Exp_Points if you know it, (0:False & 1:True), enter if unsure:\n",
      "Enter Base_Total if you know it, (0:False & 1:True), enter if unsure:253\n",
      "Enter HP if you know it, (0:False & 1:True), enter if unsure:45\n",
      "Enter Attack if you know it, (0:False & 1:True), enter if unsure:49\n",
      "Enter Defense if you know it, (0:False & 1:True), enter if unsure:49\n",
      "Enter Special if you know it, (0:False & 1:True), enter if unsure:65\n",
      "Enter Speed if you know it, (0:False & 1:True), enter if unsure:45\n",
      "Enter Normal_Dmg if you know it, (0:False & 1:True), enter if unsure:1\n",
      "Enter Fire_Dmg if you know it, (0:False & 1:True), enter if unsure:2\n",
      "Enter Water_Dmg if you know it, (0:False & 1:True), enter if unsure:0.5\n",
      "Enter Eletric_Dmg if you know it, (0:False & 1:True), enter if unsure:0.5\n",
      "Enter Grass_Dmg if you know it, (0:False & 1:True), enter if unsure:0.25\n",
      "Enter Ice_Dmg if you know it, (0:False & 1:True), enter if unsure:2\n",
      "Enter Fight_Dmg if you know it, (0:False & 1:True), enter if unsure:0.5\n",
      "Enter Poison_Dmg if you know it, (0:False & 1:True), enter if unsure:1\n",
      "Enter Ground_Dmg if you know it, (0:False & 1:True), enter if unsure:1\n",
      "Enter Flying_Dmg if you know it, (0:False & 1:True), enter if unsure:2\n",
      "Enter Psychic_Dmg if you know it, (0:False & 1:True), enter if unsure:\n",
      "Enter Bug_Dmg if you know it, (0:False & 1:True), enter if unsure:\n",
      "Enter Rock_Dmg if you know it, (0:False & 1:True), enter if unsure:\n",
      "Enter Ghost_Dmg if you know it, (0:False & 1:True), enter if unsure:\n",
      "Enter Dragon_Dmg if you know it, (0:False & 1:True), enter if unsure:\n",
      "Enter Evolutions if you know it, (0:False & 1:True), enter if unsure:2\n",
      "EnterLegendary if you know it, (0:False & 1:True), enter if unsure:0\n",
      "EnterisGrass if you know it, (0:False & 1:True), enter if unsure:1\n",
      "EnterisFire if you know it, (0:False & 1:True), enter if unsure:0\n",
      "EnterisWater if you know it, (0:False & 1:True), enter if unsure:0\n",
      "EnterisBug if you know it, (0:False & 1:True), enter if unsure:0\n",
      "EnterisNormal if you know it, (0:False & 1:True), enter if unsure:0\n",
      "EnterisPoison if you know it, (0:False & 1:True), enter if unsure:1\n",
      "EnterisElectric if you know it, (0:False & 1:True), enter if unsure:\n",
      "EnterisGround if you know it, (0:False & 1:True), enter if unsure:\n",
      "EnterisFighting if you know it, (0:False & 1:True), enter if unsure:\n",
      "EnterisPsychic if you know it, (0:False & 1:True), enter if unsure:\n",
      "EnterisRock if you know it, (0:False & 1:True), enter if unsure:\n",
      "EnterisGhost if you know it, (0:False & 1:True), enter if unsure:\n",
      "EnterisIce if you know it, (0:False & 1:True), enter if unsure:\n",
      "EnterisDragon if you know it, (0:False & 1:True), enter if unsure:\n",
      "EnterisPoison2 if you know it, (0:False & 1:True), enter if unsure:\n",
      "EnterisFlying2 if you know it, (0:False & 1:True), enter if unsure:\n",
      "EnterisGround2 if you know it, (0:False & 1:True), enter if unsure:\n",
      "EnterisGrass2 if you know it, (0:False & 1:True), enter if unsure:\n",
      "EnterisFighting2 if you know it, (0:False & 1:True), enter if unsure:\n",
      "EnterisPsychic2 if you know it, (0:False & 1:True), enter if unsure:\n",
      "EnterisIce2 if you know it, (0:False & 1:True), enter if unsure:\n",
      "EnterisRock2 if you know it, (0:False & 1:True), enter if unsure:\n",
      "EnterisMedSlow if you know it, (0:False & 1:True), enter if unsure:\n",
      "EnterisMedFast if you know it, (0:False & 1:True), enter if unsure:\n",
      "EnterisFast if you know it, (0:False & 1:True), enter if unsure:\n",
      "EnterisSlow if you know it, (0:False & 1:True), enter if unsure:\n"
     ]
    }
   ],
   "source": [
    "colNames = []\n",
    "for col in simplified.columns:\n",
    "    colNames.append(col) # Again, col has a \" \" in front of the \"real word\"\n",
    "    \n",
    "answer = []\n",
    "for i in range(len(colNames)):\n",
    "    answer.append(input(f'Enter{colNames[i]} if you know it, (0:False & 1:True), enter if unsure:'))"
   ]
  },
  {
   "cell_type": "code",
   "execution_count": 149,
   "id": "d9c14c30",
   "metadata": {},
   "outputs": [],
   "source": [
    "columnAverages = list(simplified[colNames].mean())"
   ]
  },
  {
   "cell_type": "code",
   "execution_count": 150,
   "id": "bcf7b70a",
   "metadata": {},
   "outputs": [],
   "source": [
    "for i in range(len(answer)):\n",
    "    if answer[i] == \"\":\n",
    "        answer[i] = columnAverages[i]"
   ]
  },
  {
   "cell_type": "code",
   "execution_count": 151,
   "id": "f5eab22a",
   "metadata": {},
   "outputs": [],
   "source": [
    "# If perfect data entry of Bulbasaur\n",
    "# answer = [2.0,   0.7,   6.9,   87.5,   12.5,   45.0,   1059860.0,   253.0,   45.0,   49.0,   49.0,   65.0,   45.0,   1.0,   2.0,   0.5,   0.5,   0.25,   2.0,   0.5,   1.0,   1.0,   2.0,   2.0,   4.0,   1.0,   1.0,   1.0,   2.0,   0.0,   1.0,   0.0,   0.0,   0.0,   0.0,   0.0,   0.0,   0.0,   0.0,   0.0,   0.0,   0.0,   0.0,   0.0,   1.0,   0.0,   0.0,   0.0,   0.0,   0.0,   0.0,   0.0,   1.0,   0.0,   0.0,   0.0]"
   ]
  },
  {
   "cell_type": "code",
   "execution_count": 152,
   "id": "54ad051a",
   "metadata": {},
   "outputs": [
    {
     "name": "stdout",
     "output_type": "stream",
     "text": [
      "['Bulbasaur']\n"
     ]
    }
   ],
   "source": [
    "print(forest.predict([answer])) # Provides top answer"
   ]
  },
  {
   "cell_type": "code",
   "execution_count": 153,
   "id": "21cebb73",
   "metadata": {
    "scrolled": true
   },
   "outputs": [],
   "source": [
    "probabilities = (forest.predict_proba([answer]))[0]\n",
    "classes = forest.classes_"
   ]
  },
  {
   "cell_type": "code",
   "execution_count": 154,
   "id": "7b98f4b2",
   "metadata": {},
   "outputs": [],
   "source": [
    "mydict = {}\n",
    "for class_name, proba in zip(classes, probabilities):\n",
    "    #print(f\"{class_name}: {proba}\")\n",
    "    mydict[class_name] = proba"
   ]
  },
  {
   "cell_type": "code",
   "execution_count": 155,
   "id": "7f2baaca",
   "metadata": {},
   "outputs": [
    {
     "name": "stdout",
     "output_type": "stream",
     "text": [
      "('Bulbasaur', 0.14)\n",
      "('Vileplume', 0.05)\n",
      "('Tangela', 0.05)\n"
     ]
    }
   ],
   "source": [
    "mydict = dict(sorted(mydict.items(), key=lambda item: item[1]))\n",
    "top3 = list(mydict.items())\n",
    "\n",
    "# Prints top three guesses and corresponding probability \n",
    "print(top3[-1])\n",
    "print(top3[-2])\n",
    "print(top3[-3])"
   ]
  }
 ],
 "metadata": {
  "kernelspec": {
   "display_name": "Python 3 (ipykernel)",
   "language": "python",
   "name": "python3"
  },
  "language_info": {
   "codemirror_mode": {
    "name": "ipython",
    "version": 3
   },
   "file_extension": ".py",
   "mimetype": "text/x-python",
   "name": "python",
   "nbconvert_exporter": "python",
   "pygments_lexer": "ipython3",
   "version": "3.9.12"
  }
 },
 "nbformat": 4,
 "nbformat_minor": 5
}
